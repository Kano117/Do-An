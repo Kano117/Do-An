{
 "cells": [
  {
   "cell_type": "markdown",
   "metadata": {},
   "source": [
    "| Ngày bắt đầu | Công việc |                   Nội dung            |\n",
    "|:----|:------------------|:------------------|\n",
    "|19/3/2024| Chạy model nhận diện thủ ngữ sử dụng model đã train | Trong quá trình chạy gặp lỗi RuntimeError: The expanded size of the tensor (1) must match the existing size (2) at non-singleton dimension 1.  Target sizes: [10400, 1].  Tensor sizes: [10400, 2] |"
   ]
  }
 ],
 "metadata": {
  "language_info": {
   "name": "python"
  }
 },
 "nbformat": 4,
 "nbformat_minor": 2
}
