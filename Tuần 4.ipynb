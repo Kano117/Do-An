{
  "metadata": {
    "kernelspec": {
      "name": "python",
      "display_name": "Python (Pyodide)",
      "language": "python"
    },
    "language_info": {
      "codemirror_mode": {
        "name": "python",
        "version": 3
      },
      "file_extension": ".py",
      "mimetype": "text/x-python",
      "name": "python",
      "nbconvert_exporter": "python",
      "pygments_lexer": "ipython3",
      "version": "3.8"
    }
  },
  "nbformat_minor": 4,
  "nbformat": 4,
  "cells": [
    {
      "cell_type": "markdown",
      "source": "Cải thiện model nhận diện hình ảnh của tuần 3 với độ chính xác chưa cao bằng Mediapipe, cần nhận diện các khớp ngón tay trước, sau đó sẽ làm model dựa vạo vị trí khung tay để nhận diện chữ\n\n![image.png](https://camo.githubusercontent.com/507406b67b4d734ae113ae86a4833dece16768839c42d5171e6c4578cdf0b310/68747470733a2f2f6d65646961706970652e6465762f696d616765732f6d6f62696c652f68616e645f747261636b696e675f33645f616e64726f69645f6770752e676966)\n\nNhờ vậy có thể nhận diện được chuyển động của tay cho kí tự Z đang còn thiếu\n\nXem video giới thiệu về Mediapipe của Google for Developer : [Applying computer vision - ML on Android with MediaPipe Series](https://www.youtube.com/watch?v=Odyg9furoQs)\n\nLưu github về Mediapipe của Google để dùng sau \n\n[MediaPipe Hands](https://github.com/google-ai-edge/mediapipe/blob/master/docs/solutions/hands.md)\n\nXem video thực hiện trên Youtube: [Custom Hand Gesture Recognition with Hand Landmarks Using Google’s Mediapipe + OpenCV in Python](https://www.youtube.com/watch?v=a99p_fAr6e4)\n\nChạy thử Mediapipe trên Visual Studio thành công, nhận diện được khung xương bàn tay\n\nBan đầu có gặp lỗi\n\n>PS D:\\Tailieu\\HK5\\Đồ Án 1> & C:/Users/LENOVO/AppData/Local/Microsoft/WindowsApps/python3.11.exe \"d:/Tailieu/HK5/Đồ Án 1/Mediapipe.py\"\nTraceback (most recent call last):\n  File \"d:\\Tailieu\\HK5\\Đồ Án 1\\Mediapipe.py\", line 2, in <module>\n    import mediapipe as mp\nModuleNotFoundError: No module named 'mediapipe'\n\nĐã sửa được khi thêm \n\n>pip install mediapipe\n",
      "metadata": {}
    },
    {
      "cell_type": "code",
      "source": "",
      "metadata": {
        "trusted": true
      },
      "outputs": [],
      "execution_count": null
    }
  ]
}