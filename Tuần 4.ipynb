{
  "cells": [
    {
      "cell_type": "markdown",
      "metadata": {},
      "source": [
        "Cải thiện model nhận diện hình ảnh của tuần 3 với độ chính xác chưa cao bằng Mediapipe, cần nhận diện các khớp ngón tay trước, sau đó sẽ làm model dựa vạo vị trí khung tay để nhận diện chữ\n",
        "\n",
        "Nhờ vậy có thể nhận diện được chuyển động của tay cho kí tự Z đang còn thiếu\n",
        "\n",
        "Xem video giới thiệu về Mediapipe của Google for Developer : [Applying computer vision - ML on Android with MediaPipe Series](https://www.youtube.com/watch?v=Odyg9furoQs)\n",
        "\n",
        "Lưu github về Mediapipe của Google để dùng sau \n",
        "\n",
        "[MediaPipe Hands](https://github.com/google-ai-edge/mediapipe/blob/master/docs/solutions/hands.md)\n",
        "\n",
        "Xem video thực hiện trên Youtube: [Custom Hand Gesture Recognition with Hand Landmarks Using Google’s Mediapipe + OpenCV in Python](https://www.youtube.com/watch?v=a99p_fAr6e4)\n",
        "\n",
        "Chạy thử Mediapipe trên Visual Studio thành công, nhận diện được khung xương bàn tay\n",
        "\n",
        "Ban đầu có gặp lỗi\n",
        "\n",
        ">PS D:\\Tailieu\\HK5\\Đồ Án 1> & C:/Users/LENOVO/AppData/Local/Microsoft/WindowsApps/python3.11.exe \"d:/Tailieu/HK5/Đồ Án 1/Mediapipe.py\"\n",
        "Traceback (most recent call last):\n",
        "  File \"d:\\Tailieu\\HK5\\Đồ Án 1\\Mediapipe.py\", line 2, in <module>\n",
        "    import mediapipe as mp\n",
        "ModuleNotFoundError: No module named 'mediapipe'\n",
        "\n",
        "Đã sửa được khi thêm \n",
        "\n",
        ">pip install mediapipe\n"
      ]
    }
  ],
  "metadata": {
    "kernelspec": {
      "display_name": "Python (Pyodide)",
      "language": "python",
      "name": "python"
    },
    "language_info": {
      "codemirror_mode": {
        "name": "python",
        "version": 3
      },
      "file_extension": ".py",
      "mimetype": "text/x-python",
      "name": "python",
      "nbconvert_exporter": "python",
      "pygments_lexer": "ipython3",
      "version": "3.8"
    }
  },
  "nbformat": 4,
  "nbformat_minor": 4
}
