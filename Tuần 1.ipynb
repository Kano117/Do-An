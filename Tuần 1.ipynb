{
 "cells": [
  {
   "cell_type": "markdown",
   "metadata": {},
   "source": [
    "## Tuần 1(5/9-11/9)\n",
    "\n",
    "Tìm hiểu về cách train một model AI\n",
    "\n",
    "Giữa nhiều lựa chọn khả thi như Anaconda, Jupyter, nhóm dùng Google Colab vì tiện dụng, dễ dùng, miễn phí và nhiều nguồn tham khảo\n",
    "\n",
    "Đã tham khảo qua nhiều nguồn để tìm hiểu\n",
    "\n",
    "[Google Colab là gì](https://200lab.io/blog/google-colab-la-gi/)\n",
    "[Làm quen với Google Colab](https://trituenhantao.io/lap-trinh/lam-quen-voi-google-colab/)\n",
    "[Hướng dẫn tất tần tật về train model bằng Google Colab](https://www.youtube.com/watch?v=TEHnfsqpUPc)\n",
    "[Train model sử dụng GPU trên Kaggle so với Colab?](https://www.youtube.com/watch?v=fXnrFGjSwrY)\n",
    "\n",
    "Chọn phương án sử dụng để train sau khi tham khảo các phương án khả thi\n",
    "\n",
    "Chọn sử dụng YOLOv8, train model trên Google Colab, sau khi đã thử YOLOv5 và Tensorflow. <br> Về phần dataset, ban đầu định sử dụng dữ liệu từ Kaggle, nhưng sau khi tìm được nguồn dữ liệu dễ dùng và đa dạng hơn đã chọn dùng từ Roboflow.\n",
    "\n",
    "Chọn được 2 dataset để thực hiện train một model:\n",
    "Dataset 702 ảnh: [American Sign Language Letters Object Detection Dataset and Pre-Trained Model by David Lee](https://universe.roboflow.com/david-lee-d0rhs/american-sign-language-letters)\n",
    "Dataset 893 ảnh: [Dataset từ Roboflow](https://universe.roboflow.com/personnel-icnjh/signlanguage-pypvv)\n",
    "\n",
    "Tài liệu đã xem: \n",
    "[Copy of AndroidML-HandGestureRecognitionModelTraining.ipynb](https://github.com/mcdominik/machine_learning/blob/master/yolov8-on-fire-colab/yolo8_on_fire.ipynb)\n",
    "\n",
    "[How to train a new model for gesture recognition - ML on Android with MediaPipe](https://www.youtube.com/watch?v=vODSFXEP-XY)\n",
    "\n",
    "[Nhận diện vật thể với YOLOv7 và trên Google Colab (có sử dụng webcam)](https://www.youtube.com/watch?v=JzAA59wJtcg)\n",
    "\n",
    "[YOLOv8 Webcam Object Detection](https://github.com/codershiyar/object-detection-using-webcam)\n",
    "\n",
    "[Fire Detection](https://github.com/mcdominik/machine_learning/blob/master/yolov8-on-fire-colab/yolo8_on_fire.ipynb) "
   ]
  }
 ],
 "metadata": {
  "kernelspec": {
   "display_name": "Python 3",
   "language": "python",
   "name": "python3"
  },
  "language_info": {
   "name": "python",
   "version": "3.11.9"
  }
 },
 "nbformat": 4,
 "nbformat_minor": 2
}
