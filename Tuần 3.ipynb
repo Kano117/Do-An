{
 "cells": [
  {
   "cell_type": "markdown",
   "metadata": {},
   "source": [
    "## Tuần 3(19/9-25/9)\n",
    "\n",
    "## Tự chụp dataset 302 ảnh chuẩn bị dữ liệu train\n",
    "\n",
    "Thực hiện chụp một loạt ảnh các kí tự từ A đến Y cho cả hai tay trái và phải, mỗi chữ tầm 5 đến 10 bức\n",
    "\n",
    "Tải tất cả 302 ảnh lên google drive [Ảnh tự train](https://drive.google.com/drive/folders/1-2ZbW4bG9pfgepF6Wbo49M2kOQAWpQhT?usp=sharing)\n",
    "\n",
    "Trên máy tính, tải file về và nạp trên thiết lập dataset trên roboflow . <br>Thực hiện gắn label từng bức ảnh\n",
    "![Ảnh mi.nh họa](https://raw.githubusercontent.com/Kano117/Do-An-1/refs/heads/main/img/Tuan3/Screenshot%202024-09-26%20002722.png)\n",
    "\n",
    "Hoàn thành và xuất dataset hoàn chỉnh https: [Dataset](https://universe.roboflow.com/sign-language-m2gtx/sign-language-ngjvl)\n",
    "Trong quá trình tải ảnh lên phát sinh lỗi ảnh chụp từ iphone cho ra file .HEIC không được roboflow hỗ trợ, phải chuyển tất cả lại thành JPG \n",
    "Dùng chức năng tạo nhiều phiên bản khác nhau của ảnh nhằm tăng độ chính xác, tăng số lượng ảnh trong dataset lên 838 ảnh\n",
    "\n",
    "Dùng dataset tự chụp train model riêng\n",
    "\n",
    "Train thành công dùng các bước cũ, train bằng google collab thành công và tiến hành chạy trên Visual Code, nhận diện được một số kí tự song vẫn chưa nhạy\n",
    "\n",
    "###  Tìm hiểu về cách nhận diện chuyển động để model nhận diện được một số câu thông dụng như xin chào, cảm ơn, ...\n",
    "\n",
    "Đã tham khảo các nguồn:\n",
    "Tạp chí khoa học công nghệ thông tin và truyền thông : [NHẬN DẠNG NGÔN NGỮ KÝ HIỆU TIẾNG VIỆT TRONG VIDEO BẰNG LSTM VÀ I3D ĐA KHỐI](https://jstic.ptit.edu.vn/jstic-ptit/index.php/jstic/article/view/303/149)\n",
    "\n",
    "[IMPROVE CNN AND LSTM IN SENTIMENT ANALYSIS FOR VIETNAMESE FROM DATA PREPROCESSING PHASE](https://jstic.ptit.edu.vn/jstic-ptit/index.php/jstic/article/view/322/138)\n",
    "\n",
    "[A STUDY ON PARAMETER TUNING FOROPTIMAL INDEXING ON LARGE SCALEDATASETS](https://jstic.ptit.edu.vn/jstic-ptit/index.php/jstic/article/view/294/148)\n",
    "\n",
    "Tài liệu khác: [SỬ DỤNG MẠNG LSTM (LONG SHORT TERM MEMORY) ĐỂ DỰ ĐOÁN SỐ LIỆU HƯỚNG THỜI GIAN](https://trituevietvn.com/chi-tiet/su-dung-mang-lstm-long-short-term-memory-de-du-doan-so-lieu-huong-thoi-gian-123)\n"
   ]
  }
 ],
 "metadata": {
  "kernelspec": {
   "display_name": "Python 3",
   "language": "python",
   "name": "python3"
  },
  "language_info": {
   "name": "python",
   "version": "3.11.9"
  }
 },
 "nbformat": 4,
 "nbformat_minor": 2
}
